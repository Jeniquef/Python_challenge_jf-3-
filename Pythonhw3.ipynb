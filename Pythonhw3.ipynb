{
 "cells": [
  {
   "cell_type": "code",
   "execution_count": 171,
   "id": "8a34f090-8635-473d-9083-e7f12aed6599",
   "metadata": {},
   "outputs": [
    {
     "name": "stdout",
     "output_type": "stream",
     "text": [
      "Maximum difference: 1862002 in month Aug-16\n",
      "Minimum difference: -1825558 in month Feb-14\n",
      "Total Months: 86\n",
      "Net Total: 22564198\n"
     ]
    }
   ],
   "source": [
    "import csv\n",
    "import numpy as np\n",
    "\n",
    "# Set the path for the CSV file\n",
    "p = 'budget_data.csv'  \n",
    "\n",
    "# Initialize variables\n",
    "total_months = 0\n",
    "net_total = 0 \n",
    "first_value = None  # This will hold the first value encountered\n",
    "difference = []  # List to store changes\n",
    "months = []  # List to store month names\n",
    "\n",
    "with open(p, 'r') as csvfile:\n",
    "    csvreader = csv.reader(csvfile)\n",
    "    \n",
    "    # Skip the header\n",
    "    next(csvreader)\n",
    "\n",
    "    # Count months/profit/losses\n",
    "    for row in csvreader:\n",
    "        total_months += 1  \n",
    "        \n",
    "        month = row[0]  # Get the current month\n",
    "        pl = int(row[1])  # Get the profit/loss value\n",
    "\n",
    "        months.append(month)  # Append the current month to the months list\n",
    "        net_total += pl  # Sum of losses/wins\n",
    "        \n",
    "        if first_value is not None:  # Check if this is not the first row\n",
    "            change = pl - first_value  # Calculate change from previous value\n",
    "            difference.append(change)  # Append the change to the list \n",
    "             \n",
    "        first_value = pl  # Update first_value for the next iteration\n",
    "\n",
    "# Calculate the maximum difference\n",
    "max_difference = max(difference) if difference else None  # Ensure there's at least one value\n",
    "\n",
    "# Print the maximum difference\n",
    "if max_difference is not None:\n",
    "    for index, value in enumerate(difference):\n",
    "        if value == max_difference:\n",
    "            print(f\"Maximum difference: {value} in month {months[index + 1]}\")\n",
    "\n",
    "# Calculate the minimum difference\n",
    "min_difference = min(difference) if difference else None  # Ensure there's at least one value\n",
    "\n",
    "# Print the minimum difference\n",
    "if min_difference is not None:\n",
    "    for index, value in enumerate(difference):  # Use enumerate to get the index\n",
    "        if value == min_difference:\n",
    "            print(f\"Minimum difference: {value} in month {months[index + 1]}\")\n",
    "\n",
    "# Print results\n",
    "print(\"Total Months:\", total_months)\n",
    "print(\"Net Total:\", net_total)\n"
   ]
  },
  {
   "cell_type": "code",
   "execution_count": null,
   "id": "398eb12b-49ca-4b3c-bf1e-6663fd21fb18",
   "metadata": {},
   "outputs": [],
   "source": []
  }
 ],
 "metadata": {
  "kernelspec": {
   "display_name": "Python 3 (ipykernel)",
   "language": "python",
   "name": "python3"
  },
  "language_info": {
   "codemirror_mode": {
    "name": "ipython",
    "version": 3
   },
   "file_extension": ".py",
   "mimetype": "text/x-python",
   "name": "python",
   "nbconvert_exporter": "python",
   "pygments_lexer": "ipython3",
   "version": "3.12.4"
  }
 },
 "nbformat": 4,
 "nbformat_minor": 5
}
